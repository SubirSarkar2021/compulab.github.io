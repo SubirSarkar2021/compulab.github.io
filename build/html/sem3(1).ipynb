{
 "cells": [
  {
   "cell_type": "markdown",
   "id": "7fef251c",
   "metadata": {},
   "source": [
    "# Solution of Linear system of equations"
   ]
  },
  {
   "cell_type": "markdown",
   "id": "5ae7c5a4",
   "metadata": {},
   "source": [
    "## Gauss elimination method"
   ]
  },
  {
   "cell_type": "markdown",
   "id": "64ee54d9",
   "metadata": {},
   "source": [
    "It is a method to solve simultaneous linear equations. It is performed in two satges\n",
    "\n",
    "* Elimination\n",
    "* Backsubstitution\n",
    "\n",
    "Before we develope the algorithim for solving a set of equations by Gauss elimination method, let us try to understand the steps envolved in this method with the help of an example.\n",
    "\n",
    "Suppose the set of equations are represented in matrix form by $AX=B$. In the elimination stage, the matrix equation $AX=B$ is transformed into the form $UX=B$, where $U$ is an upper triangular matrix. Let us try to understand it by taking an example. Consider the following set of equations.\n",
    "\n",
    "\n",
    "\\begin{align}\n",
    "&4x_1 - 2x_2 +x_3 = 11 \\label{eq1a}\\tag{1a}\\\\\n",
    "&-2x_1 + 4x_2 -2x_3 = -16 \\label{eq1b}\\tag{1b} \\\\\n",
    "&x_1 -2x_2 + 4x_3 = 17\\label{eq1c}\\tag{1c}\n",
    "\\end{align}\n",
    "\n",
    "Suppose, we have a set of equations and out which we choose a particular equation, say $(j)$, called **pivot equation**. In the elimination stage, we multiply the pivot equation $(j)$ by a number $\\lambda$ and subtract it from another equation, say $(i)$. Symbolically, it is represented as\n",
    "\\begin{equation}\n",
    "Eq.(i)\\leftarrow Eq.(i) - \\lambda \\times Eq.(j)\n",
    "\\end{equation}\n",
    "\n",
    "Let us choose Eq (\\eqref{eq1a}) as our *pivot equation* and multiply it by $\\lambda$ so that we can eliminate $x_1$ from Eq.s (\\ref{eq1b} and \\ref{eq1c}). We perform following two operations:\n",
    "\\begin{equation}\n",
    "\\begin{aligned}\n",
    "&Eq.(\\ref{eq1b})\\leftarrow Eq.(\\ref{eq1b}) - (-0.5) \\times Eq.(\\ref{eq1a}) \\\\\n",
    "&Eq.(\\ref{eq1c})\\leftarrow Eq.(\\ref{eq1c}) - (0.25) \\times Eq.(\\ref{eq1a})\n",
    "\\end{aligned}\n",
    "\\end{equation}\n",
    "\n",
    "After this transformation, the set of equations become\n",
    "\n",
    "\\begin{align}\n",
    "4x_1 - 2x_2 +x_3 = 11 \\label{eq2a}\\tag{2a}\\\\\n",
    "3x_2 -1.5x_3 = -10.5 \\label{eq2b}\\tag{2b} \\\\\n",
    "-1.5x_2 + 3.75x_3 = 14.25\\label{eq2c}\\tag{2c}\n",
    "\\end{align}\n",
    "\n",
    "In this way, we have completed the first round of the elimination phase. Next, we choose Eq. (\\eqref{eq2b}) as our *pivot equation* and try to eliminate $x_2$ from Eq. (\\eqref{eq2c}):\n",
    "\n",
    "\\begin{equation}\n",
    "Eq.(\\eqref{eq2c})\\leftarrow Eq.(\\eqref{eq2c}) - (-0.5) \\times Eq.(\\eqref{eq2b})\n",
    "\\end{equation}\n",
    "\n",
    "After this operation, we finally get following set of equations -\n",
    "\n",
    "\n",
    "\\begin{align}\n",
    "4x_1 - 2x_2 +x_3 = 11 \\label{eq3a}\\tag{eq3a}\\\\\n",
    "3x_2 -1.5x_3 = -10.5 \\label{eq3b}\\tag{eq3b} \\\\\n",
    "3x_3 = 9\\label{eq3c}\\tag{eq3c}\n",
    "\\end{align}\n",
    "\n",
    "The elimation phase is now complete and the matrix $A$ has transformed into upper triangular matrix $U$.\n",
    "\n",
    "In the back substitution phase, the unknowns can be computed as follows -\n",
    "\n",
    "\\begin{align}\n",
    "&x_3=9/3=3 \\tag{eq4a}\\\\\n",
    "&x_2=(-10.5 + 1.5x_3)/3= (-10.5 + 1.5(3))/3 = -2 \\tag{eq4b} \\\\\n",
    "&x_1 = (11 + 2x_2 - x_3)/4 = (11 + 2(-2) - 3)/4 = 1 \\tag{eq4c}\n",
    "\\end{align}\n"
   ]
  },
  {
   "cell_type": "code",
   "execution_count": null,
   "id": "06856f40",
   "metadata": {},
   "outputs": [],
   "source": []
  }
 ],
 "metadata": {
  "kernelspec": {
   "display_name": "Python 3",
   "language": "python",
   "name": "python3"
  },
  "language_info": {
   "codemirror_mode": {
    "name": "ipython",
    "version": 3
   },
   "file_extension": ".py",
   "mimetype": "text/x-python",
   "name": "python",
   "nbconvert_exporter": "python",
   "pygments_lexer": "ipython3",
   "version": "3.7.6"
  }
 },
 "nbformat": 4,
 "nbformat_minor": 5
}
