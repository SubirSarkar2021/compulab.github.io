{
 "cells": [
  {
   "cell_type": "markdown",
   "id": "ae6260c9",
   "metadata": {},
   "source": [
    "# Computer Lab - Semester 3"
   ]
  },
  {
   "cell_type": "markdown",
   "id": "c3bc623d",
   "metadata": {},
   "source": [
    "## Solution of ODE"
   ]
  },
  {
   "cell_type": "markdown",
   "id": "4acae2d3",
   "metadata": {},
   "source": [
    "#### Euler's Method\n",
    "\n",
    "Any equation which involves derivative of a function is called a **differential equation**. Order of the differential equation is defined by the order of the derivative of the function present in the differential equation. A first order linear differential equation is represented by\n",
    "\n",
    "\\begin{equation}\n",
    "\\frac{dy}{dx}=f(x,y(x))\n",
    "\\end{equation}\n",
    "\n",
    "To solve this type of equation numerically, we are given an initial condition, i.e. the value of the function at the initial point. If $x=a$ is the starting point, then we must get the value $y(a)$ at $x=a$. Let $y(a)=c$. Geometrically, it is quite obvious that the function $y(x)$ must pass through $(a,c)$. Therefore, the equation of tangent line drawn at the point (a,c) in xy coordinate plane can be written as -\n",
    "\n",
    "\\begin{align}\n",
    "y - c = \\frac{dy}{dx}\\mid_{(a,c)}(x - a)\n",
    "\\end{align}\n",
    "\n",
    "Now, $\\frac{dy}{dx}\\mid_{(a,c)}=f(a,c)$. Setting, $x-a=h$ as step size or distance between two neighbouring points, we can write the above equation as\n",
    "\n",
    "\\begin{align}\n",
    "y(a+h) \\approx c + f(a,c)\\cdot h\n",
    "\\end{align}\n",
    "\n",
    "Thus the solution passes through a point which is nearly equal to $(a+h, c+f(a,c)h)$. We now repeat this tangent line approximation with (a,c) with successive points separated by a distance $h$. We must replace $(a,c)$ by $(a+h, c+f(a,c)h)$. Keep repeating this tangent line approximation at successive points $x=a,~a+h,~a+2h,\\cdots,b$, we get the values of $y(x)$ for all the points between $x=a$ to $x=b$.\n",
    "\n",
    "Algebraically, the basic idea can be understood in the following way. From calculas, the derivative of a function at a point is given by\n",
    "\n",
    "\\begin{align}\n",
    "\\frac{dy}{dx} = \\lim_{h\\to 0}\\frac{y(x+h)-y(x)}{h}\n",
    "\\end{align}\n",
    "\n",
    "Here $h>0$ and very small. The above equation can be approximately written as\n",
    "\n",
    "\\begin{align}\n",
    "\\frac{dy}{dx} \\approx \\frac{y(x+h)-y(x)}{h}\n",
    "\\end{align}\n",
    "\n",
    "This equation can be solved for $f(x+h)$ to give\n",
    "\n",
    "\\begin{align}\n",
    "f(x+h) \\approx y(x) + h\\cdot f(x,y(x))\n",
    "\\end{align}\n",
    "\n",
    "If we call $y(x+h)$ as \"new value\", then we can write the above equation as\n",
    "\n",
    "\\begin{align}\n",
    "y_{\\text{new}} = y +h \\cdot f(x,y)\n",
    "\\end{align}\n",
    "\n",
    "We can demonstrate the implementation of Euler's method by using the following tabular format -\n",
    "\n",
    "| $x$     | $y$                 | $$h\\cdot f(x,y)$$|\n",
    "| :---    | :---                | :---           |\n",
    "|$a$      | $c$                 | $$h\\cdot f(a,c)$$| \n",
    "|$a+h$    | $$c + h\\cdot f(a,c)$$ | $\\cdots$       |\n",
    "|$a + 2h$ | $\\cdots$            |                | \n",
    "|$\\vdots$ |                     |                |\n",
    "|$b$      | ???                 | X              |\n",
    "\n",
    "The goal is to fill out all the blanks of the table except X entry and find the ??? entry, which is the Euler’s method approximation for $y(b)$."
   ]
  },
  {
   "cell_type": "markdown",
   "id": "bc1d6a9a",
   "metadata": {},
   "source": [
    "Consider the following ODE\n",
    "\\begin{align}\n",
    "\\frac{dy}{dx}=\\frac{y+x}{y-x},\\hspace{0.5cm}y(0)=1\n",
    "\\end{align}\n",
    "Find the value y at x = 0.6, taking the step size = 0.2."
   ]
  },
  {
   "cell_type": "code",
   "execution_count": 1,
   "id": "c7a0c289",
   "metadata": {},
   "outputs": [
    {
     "name": "stdout",
     "output_type": "stream",
     "text": [
      "x         y    \n",
      "------------------\n",
      "0.0    1.000\n",
      "0.2    1.200\n",
      "0.4    1.480\n",
      "0.6    1.828\n",
      "------------------\n"
     ]
    },
    {
     "data": {
      "image/png": "[encoded data removed]",
      "text/plain": [
       "<Figure size 432x288 with 1 Axes>"
      ]
     },
     "metadata": {
      "needs_background": "light"
     },
     "output_type": "display_data"
    }
   ],
   "source": [
    "import numpy as np\n",
    "import matplotlib.pyplot as plt\n",
    "\n",
    "# Discretize the independent variable 'x'\n",
    "x_init, x_final, step = 0, 0.6, 0.2\n",
    "x = np.arange(x_init, x_final+step, step)\n",
    "\n",
    "#Create array for unknown or dependent variable\n",
    "y = np.zeros(len(x))\n",
    "y[0] = 1\n",
    "\n",
    "# Define helper functions\n",
    "def f(x,y):\n",
    "\tslope = (y+x)/(y-x)\n",
    "\treturn slope\n",
    "\n",
    "def Euler(x, y, h):\n",
    "\ty_new = y + h*f(x, y)\n",
    "\treturn y_new\n",
    "\n",
    "# use recursive relation to find the 'y' values at different grid points of 'x'\n",
    "h = step\n",
    "for i in range(len(x)-1):\n",
    "    y[i+1] = Euler(x[i], y[i], h)\n",
    "\n",
    "# Tabulating the result\n",
    "y = y.reshape([-1,1])\n",
    "x = x.reshape([-1,1])\n",
    "\n",
    "val = np.hstack([x, y])\n",
    "\n",
    "print(\"{0:10s}{1:5s}\".format('x','y'))\n",
    "print('------------------')\n",
    "for i in range(len(val[:,0])):\n",
    "    print(\"{0:0.1f} {1:8.3f}\".format(val[:,0][i], val[:,1][i]))\n",
    "print('------------------')\n",
    "\n",
    "# Graphical demonstration\n",
    "plt.plot(x, y, ls=':', color='k', markersize=4)\n",
    "plt.plot(x, y, 'ro', markersize=4)\n",
    "plt.xlabel('x', fontsize=14)\n",
    "plt.ylabel('y', fontsize=14)\n",
    "\n",
    "# Displaying values next to point\n",
    "for i in range(len(y)):\n",
    "\tplt.text(x[i], y[i]+0.05, \"%0.2f\" %y[i], ha=\"center\")\n",
    "plt.ylim(0, 2)\n",
    "plt.show()"
   ]
  },
  {
   "cell_type": "markdown",
   "id": "5e4066ec",
   "metadata": {},
   "source": [
    "#### Modified Euler method\n",
    "\n",
    "The biggest shortcoming in Euler's method is that the derivative or slope estimated at the begining of the interval is applied through out the interval which generally, is not the case. As a modification, the derivative is estimated at the begining and at the end of the interval and average of the two values is used to estimate the value at the next stage. So, if we consider an interval between $x$ and $x+h$ and the value of $y(x)$ is known, then to estimate the value at $x+h$, we calculate the slope at $x$, which is $\\frac{dy}{dx}$ and estimate $y(x+h)$ which is given by\n",
    "\n",
    "\\begin{align}\n",
    "y(x+h) = y(x) + h\\cdot f(x,y)\n",
    "\\end{align}\n",
    "\n",
    "Let us call this value of $y(x+h)$ as predicted value of $y$ or $y_p$. Using the value of $y_p$, we estimate the slope at $x+h$ which is given by $f(x+h, y_p)$. Let us call\n",
    "\n",
    "\\begin{align}\n",
    "&k_1 = f(x,y)\\\\\n",
    "&k_2 = f(x+h, y_p)\n",
    "\\end{align}\n",
    "\n",
    "We use the average of $k_1$ and $k_2$ to estimate the value at $x+h$, given by\n",
    "\n",
    "\\begin{align}\n",
    "y(x+h) = y(x) + \\left( \\frac{k_1+k_2}{2}\\right) \\cdot h\n",
    "\\end{align}\n",
    "\n",
    "This value of $y(x+h)$ is known as *corrector* value or $y_c$.\n",
    "\n",
    "The previous problem can be solved by modified Euler method by modifying the code in the Euler function. The code snippet is given below."
   ]
  },
  {
   "cell_type": "code",
   "execution_count": 2,
   "id": "350d43f7",
   "metadata": {},
   "outputs": [],
   "source": [
    "def modEuler(x, y, h):\n",
    "    k1 = f(x, y)\n",
    "    y_p = y + k1*h\n",
    "    k2 = f(x+h, y_p)\n",
    "    y_c = y + h*(k1+k2)/2\n",
    "    return y_c"
   ]
  },
  {
   "cell_type": "markdown",
   "id": "e78b75cd",
   "metadata": {},
   "source": [
    "#### Runge Kutta Method of Second Order\n",
    "\n",
    "In this method. we estimate the slope at the middle of the interval $(x, x+h)$. Let $f(x, y)$ be the slope at $x$ and the slope at $x+h/2$ be $f(x+h/2, y+k1/2)$. Considering this slope is better estimate for the interval, we use it for the whole interval to estimate the value at $x+h$. This can be shown below -\n",
    "\\begin{align}\n",
    "&k_1 = f(x,y) \\nonumber\\\\\n",
    "&k_2 = (x+\\frac{h}{2}, y + \\frac{h}{2}k_1)\\nonumber\\\\\n",
    "&y(x+h) = y(x) + h\\cdot k_2\n",
    "\\end{align}"
   ]
  },
  {
   "cell_type": "markdown",
   "id": "176b20d9",
   "metadata": {},
   "source": [
    "Solve the differential equation\n",
    "\\begin{equation}\n",
    "\\frac{dy}{dt}=t+y\n",
    "\\end{equation}\n",
    "\n",
    "with the initial condition $y(0)=1$, using fourth order Runge-Kutta method from $t=0$ to $t=0.4$ taking $h=0.1$."
   ]
  },
  {
   "cell_type": "code",
   "execution_count": 3,
   "id": "312f07a0",
   "metadata": {},
   "outputs": [
    {
     "name": "stdout",
     "output_type": "stream",
     "text": [
      "t         y    \n",
      "------------------\n",
      "0.0    1.000\n",
      "0.1    1.120\n",
      "0.2    1.264\n",
      "0.3    1.435\n",
      "0.4    1.636\n",
      "------------------\n"
     ]
    }
   ],
   "source": [
    "def model(t, y):\n",
    "    return t + y\n",
    "\n",
    "def rk2Func(x, y, h):\n",
    "    k1 = model(x, y)\n",
    "    k2 = model(x+h, y+k1*h)\n",
    "    y_new = y + k2*h\n",
    "    return y_new\n",
    "\n",
    "t = np.arange(0, 0.4 + 0.1, 0.1)\n",
    "y = np.zeros(len(t))\n",
    "y[0] = 1\n",
    "h = 0.1\n",
    "\n",
    "for i in range(len(t)-1):\n",
    "    y[i+1] = rk2Func(t[i], y[i], h)\n",
    "    \n",
    "# Tabulating the result\n",
    "y = y.reshape([-1,1])\n",
    "t = t.reshape([-1,1])\n",
    "\n",
    "val = np.hstack([t, y])\n",
    "\n",
    "print(\"{0:10s}{1:5s}\".format('t','y'))\n",
    "print('------------------')\n",
    "for i in range(len(val[:,0])):\n",
    "    print(\"{0:0.1f} {1:8.3f}\".format(val[:,0][i], val[:,1][i]))\n",
    "print('------------------')"
   ]
  },
  {
   "cell_type": "markdown",
   "id": "67016ed6",
   "metadata": {},
   "source": [
    "#### Runge Kutta Method of 4th Order\n",
    "\n",
    "4th order Runge-Kutta method is more improved version than 2nd order. In 4th order, we estimate the slope at the half of the interval. Let the slope at $x$ be $f(x,y)$ and we estimate the slope at $x+h/2$ which is $f(x+h/2, y+k_1h/2)$. We can write it as follows - \n",
    "\n",
    "\\begin{align}\n",
    "&k_1 = f(x,y)\\nonumber\\\\\n",
    "&k_2 = f(x+\\frac{h}{2},y+\\frac{h}{2}\\cdot k_1)\\nonumber\n",
    "\\end{align}\n",
    "\n",
    "Assuming $k_2$ to be better estimate of the slope than $k_1$, we use it to find slope at mid-point of the interval. It is given by\n",
    "\n",
    "\\begin{align}\n",
    "k_3 = f(x+\\frac{h}{2},y+\\frac{h}{2}\\cdot k_2)\\nonumber\n",
    "\\end{align}\n",
    "\n",
    "We consider this slope $k_3$ for the over all interval and find the slope at $x+h$ which is given by\n",
    "\n",
    "\\begin{align}\n",
    "k_4 = f(x+h, y+h\\cdot k_3)\n",
    "\\end{align}\n",
    "\n",
    "The average of these four slopes is given by\n",
    "\n",
    "\\begin{align}\n",
    "k_{avg}=\\frac{k_1+2k_2+2k_3+k_4}{6}\n",
    "\\end{align}\n",
    "\n",
    "We use this average value of the slope to estimate $y(x+h)$. This is given by\n",
    "\n",
    "\\begin{align}\n",
    "y(x+h)=y(x)+h\\cdot k_{avg}\n",
    "\\end{align}"
   ]
  },
  {
   "cell_type": "markdown",
   "id": "ee247b21",
   "metadata": {},
   "source": [
    "Consider the following differential equation:\n",
    "\n",
    "\\begin{equation}\n",
    "\\frac{dy}{dt}=t\\sqrt{y(t)}\n",
    "\\end{equation}\n",
    "with initial condition:<br>\n",
    "$t_0 = 0$ and $y_0 = y(t_0)=y(0)=1$<br>\n",
    "\n",
    "The exact solution is<br>\n",
    "$y(t) = \\frac{1}{16}(t^2 + 4)^2$"
   ]
  },
  {
   "cell_type": "code",
   "execution_count": 4,
   "id": "1f008437",
   "metadata": {},
   "outputs": [],
   "source": [
    "# Defining all functions\n",
    "\n",
    "def y_analytic(t):\n",
    "    return (1/16)*(t**2 + 4)**2\n",
    "\n",
    "def model(y, t):\n",
    "    return t*np.sqrt(y)\n",
    "\n",
    "def rk4(y, t, h):\n",
    "\tk1 = model(y, t)\n",
    "\tk2 = model(y + k1*(h/2), t+h/2)\n",
    "\tk3 = model(y + k2*(h/2), t+h/2)\n",
    "\tk4 = model(y + k3*h, t+h)\n",
    "\tk_avg = (k1 + 2*(k2+k3)+k4)/6\n",
    "\ty_new = y + k_avg*h\n",
    "\treturn y_new"
   ]
  },
  {
   "cell_type": "code",
   "execution_count": 5,
   "id": "775b70f0",
   "metadata": {},
   "outputs": [],
   "source": [
    "import numpy as np\n",
    "import matplotlib.pyplot as plt\n",
    "\n",
    "# Discretizing time domain and creating array for 'y'\n",
    "\n",
    "t = np.arange(0, 1.25, 0.25)\n",
    "y = np.zeros_like(t)\n",
    "y[0] = 1\n",
    "h = 0.25\n",
    "\n",
    "for i in range(len(t)-1):\n",
    "    y[i+1] = rk4(y[i], t[i], h)\n",
    "\n",
    "t_range = np.arange(0, 1.01, 0.01)\n",
    "y_analt = [y_analytic(t) for t in t_range]"
   ]
  },
  {
   "cell_type": "code",
   "execution_count": 6,
   "id": "053f822e",
   "metadata": {},
   "outputs": [
    {
     "data": {
      "image/png": "[encoded data removed]",
      "text/plain": [
       "<Figure size 432x288 with 1 Axes>"
      ]
     },
     "metadata": {
      "needs_background": "light"
     },
     "output_type": "display_data"
    }
   ],
   "source": [
    "# Comapring the result graphically\n",
    "\n",
    "plt.plot(t, y, 'ro', label='RK4 method')\n",
    "plt.plot(t_range, y_analt, 'k-', label='Analytical method')\n",
    "plt.xlabel('$x$', fontsize=14)\n",
    "plt.ylabel('y(x)', fontsize=14)\n",
    "plt.legend()\n",
    "plt.show()"
   ]
  },
  {
   "cell_type": "markdown",
   "id": "d477ae6a",
   "metadata": {},
   "source": [
    "## First order Differential equations"
   ]
  },
  {
   "cell_type": "markdown",
   "id": "4d6ab7de",
   "metadata": {},
   "source": [
    "#### Radioactive Decay\n",
    "\n",
    ">There are some elements in nature which spontaneously disintegrates by itself without any external influence. Such a process is called **radioactivity** and the elements are called *radioactive elements*.\n",
    "\n",
    "The rate of decay of any radioactive elements is proportional to the number of elements present at that instant. \n",
    "\\begin{align}\n",
    "\\frac{dN}{dt}=-\\lambda N, \\hspace{0.5cm}N(t_0)=N_0 \\label{eq1}\\tag{1}\n",
    "\\end{align}\n",
    "The constant of proportionality ($\\lambda$) is called *decay constant*. $N_0$ is the number of radioactive element present initially at time $t_0$. The decay constant $\\lambda$ can be further expressed as\n",
    "\\begin{align}\n",
    "\\lambda=\\frac{0.693}{T_{1/2}}\\label{eqref{2}}\\tag{2}\n",
    "\\end{align}\n",
    "Here, $T_{1/2}$ is the half-life of the radioactive element during which half of the radioactive element will decay.\n",
    "\n",
    "We like to simulate radioactivity for a known source. Hence we have to solve Equation (\\ref{eq1}) with appropriate initial condition."
   ]
  },
  {
   "cell_type": "code",
   "execution_count": 7,
   "id": "643dbe62",
   "metadata": {},
   "outputs": [],
   "source": [
    "import numpy as np\n",
    "import matplotlib.pyplot as plt\n",
    "\n",
    "# basic parametrs\n",
    "N0    = 10000      # initial number of atoms\n",
    "T_half = 4.5*60\n",
    "lamda = 0.693/T_half\n",
    "\n",
    "# Discretize the independent variable 't'\n",
    "t_init, t_final, step_size = 0, 1000, 0.1\n",
    "t = np.arange(t_init, t_final, step_size)\n",
    "\n",
    "# Create array for dependent variable \"N\"\n",
    "N = np.zeros(len(t))\n",
    "N_rk2 = np.zeros(len(t))\n",
    "N_rk4 = np.zeros(len(t))\n",
    "N[0] = N0\n",
    "N_rk2[0] = N0"
   ]
  },
  {
   "cell_type": "code",
   "execution_count": 8,
   "id": "c6280fad",
   "metadata": {},
   "outputs": [],
   "source": [
    "def model(N, t):\n",
    "    return -lamda*N\n",
    "\n",
    "def euler(N, t, h):\n",
    "    k     = model(N, t)\n",
    "    N_new = N + k*h\n",
    "    return N_new\n",
    "\n",
    "def rk2(N, t, h):\n",
    "    k1 = model(N, t)\n",
    "    k2 = model(N+k1*h/2, t+h/2)\n",
    "    N_new = N + k2*h\n",
    "    return N_new"
   ]
  },
  {
   "cell_type": "code",
   "execution_count": 9,
   "id": "11f79424",
   "metadata": {},
   "outputs": [],
   "source": [
    "# Loop to calculate the value of \"N\" at different \"t\" points\n",
    "h = step_size\n",
    "for i in range(len(t)-1):\n",
    "    N[i+1] = euler(N[i], t[i], h)\n",
    "    N_rk2[i+1] = rk2(N_rk2[i], t[i], h)"
   ]
  },
  {
   "cell_type": "code",
   "execution_count": 10,
   "id": "522c69e2",
   "metadata": {},
   "outputs": [
    {
     "data": {
      "image/png": "[encoded data removed]",
      "text/plain": [
       "<Figure size 432x288 with 1 Axes>"
      ]
     },
     "metadata": {
      "needs_background": "light"
     },
     "output_type": "display_data"
    }
   ],
   "source": [
    "# Visualizing the simulation\n",
    "plt.plot(t, N, 'r-', label='Euler')\n",
    "plt.plot(t, N_rk2, 'b:', label=\"rk2\")\n",
    "plt.legend()\n",
    "plt.xlabel('$t$', fontsize=14)\n",
    "plt.ylabel('$N(t)$', fontsize=14)\n",
    "plt.show()"
   ]
  },
  {
   "cell_type": "markdown",
   "id": "dfb99afb",
   "metadata": {},
   "source": [
    "Simulation done by Euler method and RK2 method gives identical result."
   ]
  },
  {
   "cell_type": "markdown",
   "id": "5495e7f6",
   "metadata": {},
   "source": [
    "We can solve the problem by taking the help of functions from Scipy. There are two functions - one is `odeint` which solves ordinary differential equation with appropriate initial conditions and the other one is `solve_ivp` which is for solving *initial value problem*."
   ]
  },
  {
   "cell_type": "code",
   "execution_count": 14,
   "id": "25ef669a",
   "metadata": {},
   "outputs": [
    {
     "data": {
      "image/png": "[encoded data removed]",
      "text/plain": [
       "<Figure size 432x288 with 1 Axes>"
      ]
     },
     "metadata": {
      "needs_background": "light"
     },
     "output_type": "display_data"
    }
   ],
   "source": [
    "# Solving by odeint\n",
    "from scipy.integrate import odeint\n",
    "def model(N, t):\n",
    "    return -lamda*N\n",
    "\n",
    "T_half = 4.5*60\n",
    "lamda = 0.693/T_half\n",
    "t = np.linspace(0, 1000, 10000)\n",
    "N0 = 1000\n",
    "sol = odeint(model, N0, t)\n",
    "\n",
    "plt.plot(t, sol[:,0], 'g--', label='odeint')\n",
    "plt.legend()\n",
    "plt.xlabel('$t$', fontsize=14)\n",
    "plt.ylabel('$N(t)$', fontsize=14)\n",
    "plt.show()"
   ]
  },
  {
   "cell_type": "code",
   "execution_count": 15,
   "id": "9846876d",
   "metadata": {},
   "outputs": [
    {
     "data": {
      "image/png": "[encoded data removed]",
      "text/plain": [
       "<Figure size 432x288 with 1 Axes>"
      ]
     },
     "metadata": {
      "needs_background": "light"
     },
     "output_type": "display_data"
    }
   ],
   "source": [
    "# using solve_ivp function\n",
    "from scipy.integrate import solve_ivp\n",
    "\n",
    "def model(t, N):\n",
    "    return -lamda*N\n",
    "\n",
    "T_half = 4.5*60\n",
    "lamda = 0.693/T_half\n",
    "t = np.linspace(0, 1000, 10000)\n",
    "N0 = 1000\n",
    "sol = solve_ivp(model, t_span=(t[0], t[-1]), y0 = [N0], t_eval=t)\n",
    "t, y = sol.t, sol.y.T\n",
    "\n",
    "plt.plot(t, y, 'b--', label='solve_ivp')\n",
    "plt.legend()\n",
    "plt.xlabel('$t$', fontsize=14)\n",
    "plt.ylabel('$N(t)$', fontsize=14)\n",
    "plt.show()"
   ]
  },
  {
   "cell_type": "code",
   "execution_count": null,
   "id": "86e3ac15",
   "metadata": {},
   "outputs": [],
   "source": []
  }
 ],
 "metadata": {
  "kernelspec": {
   "display_name": "Python 3",
   "language": "python",
   "name": "python3"
  },
  "language_info": {
   "codemirror_mode": {
    "name": "ipython",
    "version": 3
   },
   "file_extension": ".py",
   "mimetype": "text/x-python",
   "name": "python",
   "nbconvert_exporter": "python",
   "pygments_lexer": "ipython3",
   "version": "3.7.6"
  }
 },
 "nbformat": 4,
 "nbformat_minor": 5
}
