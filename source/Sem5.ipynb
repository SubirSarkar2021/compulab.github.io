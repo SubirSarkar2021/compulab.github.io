{
 "cells": [
  {
   "cell_type": "markdown",
   "id": "315d363e",
   "metadata": {},
   "source": [
    "# Computer Lab Semester - 5"
   ]
  },
  {
   "cell_type": "markdown",
   "id": "04731fc4",
   "metadata": {},
   "source": [
    "Solve the s-wave Schrödinger equation for the ground state and the first excited state of the hydrogen atom\n",
    "\\begin{align}\n",
    "&\\frac{d^2u}{dr^2}=A(r)u(r),\\\\\n",
    "&A(r) = \\frac{2m}{\\hbar^2}[V(r)-E],\\\\\n",
    "\\mbox{where, } &V(r)=-\\frac{e^2}{r}\n",
    "\\end{align}\n",
    "where, m is the reduced mass of the electron. Obtain the energy eigenvalues and plot the corresponding wave\n",
    "functions. Remember that the ground state energy of the hydrogen atom is ≈-13.6 eV. Take e=3.795 (eVÅ),\n",
    "ħc= 1973(eVÅ) and m=0.511×10$^6$ eV/c$^2$."
   ]
  },
  {
   "cell_type": "markdown",
   "id": "063a6d14",
   "metadata": {},
   "source": [
    "## Time independent Scrodinger equation\n",
    "\\begin{equation}\n",
    "\\frac{d^2\\psi(x)}{dx^2} + k^2(x)\\psi(x) = 0\n",
    "\\end{equation}\n",
    "where,\n",
    "\\begin{equation}\n",
    "k^2(x)=\\frac{2m}{\\hbar^2}(E-V(x))\n",
    "\\end{equation}\n",
    "\n",
    "We split the second order differential equation into two first order equations as below -\n",
    "\\begin{equation}\n",
    "\\begin{aligned}\n",
    "&\\frac{d\\psi}{dx}=\\phi(x)\\\\\n",
    "&\\frac{d\\phi}{dx}=-k^2(x)\\psi(x)\n",
    "\\end{aligned}\n",
    "\\end{equation}"
   ]
  },
  {
   "cell_type": "code",
   "execution_count": 1,
   "id": "07910b15",
   "metadata": {},
   "outputs": [],
   "source": [
    "import numpy as np\n",
    "import matplotlib.pyplot as plt\n",
    "from scipy.integrate import odeint\n",
    "from scipy.optimize import bisect"
   ]
  },
  {
   "cell_type": "code",
   "execution_count": 2,
   "id": "12e23487",
   "metadata": {},
   "outputs": [],
   "source": [
    "# Basic parameters\n",
    "E0   = -13.6     # approximate ground state energy\n",
    "e    = 3.795      # charge of electron in eVA\n",
    "hbarc = 1973   # in eVA\n",
    "m    = 0.511e6    # in eV/c^2\n",
    "\n",
    "# Based on the given parameters, calculate 2m/hbar^2c\n",
    "C  = 2*m/hbarc**2"
   ]
  },
  {
   "cell_type": "code",
   "execution_count": 3,
   "id": "667e1830",
   "metadata": {},
   "outputs": [],
   "source": [
    "# Defining Helper Functions\n",
    "\n",
    "def V(r):\n",
    "    return - e**2/r \n",
    "\n",
    "def A(r):\n",
    "    return C*(V(r)-E)\n",
    "\n",
    "def dzdr(z, r):\n",
    "    x, y = z\n",
    "    dxdr = y\n",
    "    dydr = A(r)*x\n",
    "    dzdr = np.array([dxdr, dydr])\n",
    "    return dzdr\n",
    "\n",
    "def waveFunc(energy):\n",
    "    global sol\n",
    "    global E\n",
    "    E = energy\n",
    "    sol = odeint(dzdr, z[0], r)\n",
    "    return sol[-1, 0]\n"
   ]
  },
  {
   "cell_type": "code",
   "execution_count": 13,
   "id": "1b78a774",
   "metadata": {},
   "outputs": [],
   "source": [
    "# setting arrays for storing values\n",
    "\n",
    "r = np.arange(1e-15, 8, 0.01)\n",
    "z = np.zeros([len(r),2])\n",
    "x0 = 0.001\n",
    "y0 = 1\n",
    "z[0] = [x0, y0]"
   ]
  },
  {
   "cell_type": "code",
   "execution_count": 19,
   "id": "b26a10c3",
   "metadata": {},
   "outputs": [
    {
     "name": "stdout",
     "output_type": "stream",
     "text": [
      "Energy Eigen Values are \n",
      "[-13.7319, -3.4059, -0.7694]\n"
     ]
    }
   ],
   "source": [
    "# Finding energy eigen values\n",
    "\n",
    "Energy = np.linspace(-20, 0, 100)\n",
    "waveFuncRight = np.array([waveFunc(Eval) for Eval in Energy])\n",
    "sign = np.sign(waveFuncRight)\n",
    "eigenValue = []\n",
    "for i in range(len(sign)-1):\n",
    "    if sign[i] == - sign[i+1]:\n",
    "        en = bisect(waveFunc, Energy[i], Energy[i+1])\n",
    "        en = round(en,4)\n",
    "        eigenValue += [en]\n",
    "\n",
    "print('Energy Eigen Values are \\n'+str(eigenValue))"
   ]
  },
  {
   "cell_type": "code",
   "execution_count": 20,
   "id": "67e16dc7",
   "metadata": {},
   "outputs": [
    {
     "data": {
      "image/png": "[encoded data removed]",
      "text/plain": [
       "<Figure size 576x360 with 1 Axes>"
      ]
     },
     "metadata": {
      "needs_background": "light"
     },
     "output_type": "display_data"
    }
   ],
   "source": [
    "# Plotting wavefunctions\n",
    "\n",
    "def plot():\n",
    "    fig, ax = plt.subplots(figsize=(8, 5))\n",
    "    # set the x-spine\n",
    "    ax.spines['left'].set_position('zero')\n",
    "\n",
    "    # turn off the right spine/ticks\n",
    "    ax.spines['right'].set_color('none')\n",
    "    ax.yaxis.tick_left()\n",
    "\n",
    "    # set the y-spine\n",
    "    ax.spines['bottom'].set_position('zero')\n",
    "\n",
    "    # turn off the top spine/ticks\n",
    "    ax.spines['top'].set_color('none')\n",
    "    ax.xaxis.tick_bottom()\n",
    "\n",
    "plot()\n",
    "\n",
    "color = ['red', 'blue', 'orange']\n",
    "for i in range(len(eigenValue)):\n",
    "    waveFunc(eigenValue[i])\n",
    "    plt.plot(r, sol[:,0], color=color[i], label='n = '+str(i)+'   E'+str(i)+' = '+str(round(eigenValue[i],1)))\n",
    "\n",
    "plt.xlabel('r')\n",
    "plt.ylabel('$\\psi(r)$')\n",
    "plt.legend()\n",
    "#plt.grid()\n",
    "plt.show()"
   ]
  },
  {
   "cell_type": "code",
   "execution_count": null,
   "id": "013cafbf",
   "metadata": {},
   "outputs": [],
   "source": []
  }
 ],
 "metadata": {
  "kernelspec": {
   "display_name": "Python 3",
   "language": "python",
   "name": "python3"
  },
  "language_info": {
   "codemirror_mode": {
    "name": "ipython",
    "version": 3
   },
   "file_extension": ".py",
   "mimetype": "text/x-python",
   "name": "python",
   "nbconvert_exporter": "python",
   "pygments_lexer": "ipython3",
   "version": "3.7.6"
  }
 },
 "nbformat": 4,
 "nbformat_minor": 5
}
