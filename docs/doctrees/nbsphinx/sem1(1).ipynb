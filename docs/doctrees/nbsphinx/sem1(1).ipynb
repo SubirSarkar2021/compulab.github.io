{
 "cells": [
  {
   "cell_type": "markdown",
   "id": "ea34a549",
   "metadata": {},
   "source": [
    "# Computer Lab - Semester 1"
   ]
  },
  {
   "cell_type": "markdown",
   "id": "d3d61058",
   "metadata": {},
   "source": [
    "## Programs"
   ]
  },
  {
   "cell_type": "markdown",
   "id": "e8044d45",
   "metadata": {},
   "source": [
    "### Sum and average of a list of numbers\n",
    "\n",
    "Here, I like to demonstrate how a list of numbers can be prepared with the help of `random` function. This function is available in python and NumPy package. One can use any one of them.\n",
    "\n",
    "Next, I shall demonstrate sum of numebrs can be done by writing a simple code from scratch or one can take the help of `sum` function which is available in python..\n",
    "\n",
    "After that average of the numbers can be obtained."
   ]
  },
  {
   "cell_type": "code",
   "execution_count": 15,
   "id": "0a62e872",
   "metadata": {},
   "outputs": [
    {
     "data": {
      "text/plain": [
       "array([41, 33, 15, 29, 35, 91, 83, 12,  6, 90])"
      ]
     },
     "execution_count": 15,
     "metadata": {},
     "output_type": "execute_result"
    }
   ],
   "source": [
    "import numpy as np\n",
    "\n",
    "a = np.random.randint(100, size=10);a"
   ]
  },
  {
   "cell_type": "code",
   "execution_count": 18,
   "id": "25789f40",
   "metadata": {},
   "outputs": [
    {
     "name": "stdout",
     "output_type": "stream",
     "text": [
      "Sum = 435\n",
      "Average = 43\n"
     ]
    }
   ],
   "source": [
    "# Sum and average from scratch\n",
    "Sum = 0\n",
    "\n",
    "for i in range(len(a)):\n",
    "    Sum += a[i]\n",
    "\n",
    "print('Sum = %d'%Sum)\n",
    "\n",
    "avg = Sum/len(a)       # average calculation\n",
    "print('Average = %d'%avg)"
   ]
  },
  {
   "cell_type": "code",
   "execution_count": 21,
   "id": "bdffcd6d",
   "metadata": {},
   "outputs": [
    {
     "name": "stdout",
     "output_type": "stream",
     "text": [
      "Sum = 435\n",
      "Average = 43\n"
     ]
    }
   ],
   "source": [
    "# sum and average using function\n",
    "\n",
    "s = sum(a)\n",
    "print(\"Sum = %d\"%s)\n",
    "\n",
    "avg1 = s/len(a)\n",
    "print('Average = %d'%avg)"
   ]
  },
  {
   "cell_type": "markdown",
   "id": "cc862022",
   "metadata": {},
   "source": [
    "### Largest of a given list of numbers and its location in the list"
   ]
  },
  {
   "cell_type": "code",
   "execution_count": 27,
   "id": "c5b873d2",
   "metadata": {},
   "outputs": [
    {
     "name": "stdout",
     "output_type": "stream",
     "text": [
      "Maximum number in the list =  91\n",
      "Index position of maximum value in the list is 5\n"
     ]
    }
   ],
   "source": [
    "max = a[0]     # Initialisation\n",
    "\n",
    "# Loop to check each element in the list\n",
    "for i in range(len(a)):\n",
    "    if a[i] > max:\n",
    "        max = a[i]\n",
    "    else:\n",
    "        max = max \n",
    "\n",
    "# Displaying the result\n",
    "print(\"Maximum number in the list = \",max)\n",
    "\n",
    "# Finding the index position\n",
    "for i in range(len(a)):\n",
    "    if a[i] == max:\n",
    "        print(\"Index position of maximum value in the list is \" +str(i))\n",
    "        break"
   ]
  },
  {
   "cell_type": "markdown",
   "id": "314888ad",
   "metadata": {},
   "source": [
    "### Sorting of numbers in ascending descending order\n",
    "\n",
    "Bubble sorting will be implemented. It is a sorting algorithm which repeatedly swaps adjacent elements if they are in wrong order."
   ]
  },
  {
   "cell_type": "code",
   "execution_count": 30,
   "id": "7d740101",
   "metadata": {},
   "outputs": [
    {
     "name": "stdout",
     "output_type": "stream",
     "text": [
      "The sorted list is \n",
      " [ 6 12 15 29 33 35 41 83 90 91]\n"
     ]
    }
   ],
   "source": [
    "n = len(a)\n",
    "# scan across the list\n",
    "for i in range(n-1):\n",
    "    # compare two adjacent elements\n",
    "    # swap if the element found is smaller than the previous one\n",
    "    for j in range(n-i-1):\n",
    "        if a[j+1]<a[j]:\n",
    "            a[j], a[j+1] = a[j+1], a[j]\n",
    "print(\"The sorted list is \\n\",a)"
   ]
  },
  {
   "cell_type": "markdown",
   "id": "c0d677ca",
   "metadata": {},
   "source": [
    "### Binary search"
   ]
  },
  {
   "cell_type": "code",
   "execution_count": 31,
   "id": "7dfdbda9",
   "metadata": {},
   "outputs": [
    {
     "name": "stdout",
     "output_type": "stream",
     "text": [
      "The element 98 is in the [78.0, 45.0, 98.0, 23.0, 55.0] at the index position 2\n"
     ]
    }
   ],
   "source": [
    "def binarySearch(arr_list, start, last, item):\n",
    "    if start <= last:\n",
    "        mid   = (start + last)//2\n",
    "        if item == arr_list[mid]:\n",
    "            return mid\n",
    "        elif item < arr_list[mid]:\n",
    "            last = mid - 1\n",
    "            return binarySearch(arr_list, start, last, item)\n",
    "        else:\n",
    "            start = mid + 1\n",
    "            return binarySearch(arr_list, start, last, item)\n",
    "    return -1\n",
    "\n",
    "a =  [78.0, 45.0, 98.0, 23.0, 55.0]\n",
    "arr_list = a\n",
    "start    = 0\n",
    "last     = len(a) - 1\n",
    "item     = 98\n",
    "result = binarySearch(arr_list, start, last, item)\n",
    "if result == -1:\n",
    "    print('The element '+str(item)+' is NOT in the '+str(arr_list))\n",
    "else:\n",
    "    print('The element '+str(item)+' is in the '+str(arr_list)+' at the index position '+str(result))"
   ]
  },
  {
   "cell_type": "markdown",
   "id": "21e918b7",
   "metadata": {},
   "source": [
    "## Random number generation\n",
    "\n",
    "### To determine the value of $\\pi$"
   ]
  },
  {
   "cell_type": "markdown",
   "id": "2ef65953",
   "metadata": {},
   "source": [
    "\n",
    "\n",
    "Consider a circle inscribed inside a square of side $2r$. Now, if we divide the area of the circle by the area of the square, we find\n",
    "\n",
    "\\begin{align}\n",
    "\\frac{\\text{Area of circle}}{\\text{area of square}}=\\frac{\\pi r^2}{(2r)^2}=\\frac{\\pi}{4}\n",
    "\\end{align}\n",
    "\n",
    "i.e. the value of $\\pi$ is four times the ratio of the area of the circle to the area of the square.\n",
    "\n",
    "If we populate the area densely with points, then the individual area will be proportional to the number of points within the boundary.\n",
    "\n",
    "Therefore, numerically approximate value of $\\pi$ is represented as\n",
    "\n",
    "\\begin{align}\n",
    "\\pi = 4\\left( \\frac{\\text{Number of points within the circle}}{\\text{Total number of points within the square}}\\right) \n",
    "\\end{align}\n",
    "\n",
    "Imagine that the square extends from -1 to 1 both along X and Y axes and center of the circle coincides with the origin of the coordinate axes. A point is represented by a x and y coordinates. So, first of all generate $(x,y)$ corodinates within a range from -1 to 1 randomly through the following code."
   ]
  },
  {
   "cell_type": "markdown",
   "id": "ed722e50",
   "metadata": {},
   "source": [
    "<div align=\"center\">\n",
    "<img src=\"pi.png\" width=200 height=200 />\n",
    "</div>"
   ]
  },
  {
   "cell_type": "code",
   "execution_count": 32,
   "id": "37d7f018",
   "metadata": {},
   "outputs": [
    {
     "name": "stdout",
     "output_type": "stream",
     "text": [
      "The value of pi is  3.112\n"
     ]
    }
   ],
   "source": [
    "import numpy as np\n",
    "\n",
    "# Generate coordinate points\n",
    "N = 1000         # N represents the number of coordinate points\n",
    "points = np.random.uniform(-1, 1, size=(N,2)) \n",
    "x, y = points[:, 0], points[:, 1]\n",
    "\n",
    "# Count the points within circle\n",
    "points_in = 0\n",
    "for i in range(N):\n",
    "    if x[i]**2 + y[i]**2 <= 1:\n",
    "        points_in += 1\n",
    "\n",
    "# The value of pi\n",
    "pi = 4*(points_in/N)\n",
    "print(\"The value of pi is \",pi)"
   ]
  },
  {
   "cell_type": "markdown",
   "id": "7a2f65b7",
   "metadata": {},
   "source": [
    "## Solution of Algebraic and Transcendental equations by Bisection, Newton Raphson and Secant methods"
   ]
  },
  {
   "cell_type": "markdown",
   "id": "24435218",
   "metadata": {},
   "source": [
    "### Algebric Equations\n",
    "\n",
    "#### Quadratic Equations"
   ]
  },
  {
   "cell_type": "markdown",
   "id": "886f9cd9",
   "metadata": {},
   "source": [
    "A quadratic equation is represented by\n",
    "\\begin{align}\n",
    "ax^2 + bx + c = 0\n",
    "\\end{align}\n",
    "\n",
    "and its solution is given by\n",
    "\n",
    "\\begin{align}\n",
    "x = \\frac{-b \\pm \\sqrt{b^2 - 4ac}}{2a}\n",
    "\\end{align}\n",
    "\n",
    "We may find three different types of solutions depending on the values of $a$, $b$ and $c$.\n",
    "\n",
    "\\begin{align}\n",
    "\\text{roots}(r1,r2)=\n",
    "\\begin{cases}\n",
    "\\text{two real roots} & \\text{if}~~ \\sqrt{b^2 - 4ac}>0\\\\\n",
    "\\text{real equal roots} & \\text{if}~~\\sqrt{b^2 -4ac}=0 \\\\\n",
    "\\text{two complex roots} & \\text{if}~~\\sqrt{b^2 - 4ac}<0\n",
    "\\end{cases}\n",
    "\\end{align}\n",
    "\n",
    "We may write following piece of code to find the roots of a quadratic equation and to ascertain the nature of the roots."
   ]
  },
  {
   "cell_type": "code",
   "execution_count": 37,
   "id": "66fe2e6d",
   "metadata": {},
   "outputs": [
    {
     "name": "stdout",
     "output_type": "stream",
     "text": [
      "Roots are complex\n",
      " and the values are [(0.5+0.8660254037844386j), (0.5-0.8660254037844386j)]\n"
     ]
    }
   ],
   "source": [
    "a, b, c = 1, -1, 1\n",
    "d_square = b**2 - 4*a*c\n",
    "root_type=[\"equal\", \"real\", \"complex\"]\n",
    "pm = np.array([1, -1])\n",
    "\n",
    "if d_square == 0:\n",
    "    r = -b/(2*a)\n",
    "    print(root_type[0], r)\n",
    "elif d_square > 0:\n",
    "    r1, r2 = (-b + pm*sqrt(d_square))/(2*a)\n",
    "    print(\"Roots are \"+str(root_type[1])+\"\\n and the values are \"+str([r1, r2]))\n",
    "else:\n",
    "    r1, r2 = (-b + pm*sqrt(d_square))/(2*a)\n",
    "    print(\"Roots are \"+str(root_type[2])+\"\\n and the values are \"+str([r1, r2]))\n"
   ]
  },
  {
   "cell_type": "markdown",
   "id": "5bca9117",
   "metadata": {},
   "source": [
    "### Simultaneous Linear Equations\n",
    "\n",
    "A set of $n$ simultaneous linear equations with $n$ unknown variables can be represented as\n",
    "\\begin{equation}\n",
    "\\begin{aligned}\n",
    "a_{11}x_1 + a_{12}x_2 + \\cdots + a_{1n}x_n = b_1, \\\\\n",
    "a_{21}x_1 + a_{22}x_2 + \\cdots + a_{2n}x_n = b_2, \\\\\n",
    "\\vdots \\hspace{2cm} \\vdots \\\\\n",
    "a_{n1}x_1 + a_{n2}x_2 + \\cdots + a_{nn}x_n = b_n, \n",
    "\\end{aligned}\n",
    "\\end{equation}\n",
    "In matrix notation, we can write the set of equations as\n",
    "\\begin{align}\n",
    "&\\underbrace{\\begin{pmatrix}\n",
    "a_{11} & a_{12} & \\cdots & a_{1n} \\\\\n",
    "a_{21} & a_{22} & \\cdots & a_{2n} \\\\\n",
    "\\vdots & \\vdots & \\vdots & \\vdots \\\\\n",
    "a_{n1} & a_{n2} & \\cdots & a_{nn} \n",
    "\\end{pmatrix}}_{{A}}\n",
    "\\underbrace{\\begin{pmatrix}\n",
    "x_1 \\\\\n",
    "x_2 \\\\\n",
    "\\vdots \\\\\n",
    "x_n\n",
    "\\end{pmatrix}}_{{X}}=\n",
    "\\underbrace{\\begin{pmatrix}\n",
    "b_1 \\\\\n",
    "b_2 \\\\\n",
    "\\vdots \\\\\n",
    "b_n\n",
    "\\end{pmatrix}}_{{b}}\\\\\n",
    "&\\textbf{AX=b}\n",
    "\\end{align}\n",
    "\n",
    "Multiplying both sides of the equaion with $A^{-1}$ we get\n",
    "\n",
    "\\begin{align}\n",
    "A^{-1}AX = A^{-1}b \\implies X = A^{-1}b\n",
    "\\end{align}\n",
    "\n",
    "so, multiplying coefficient matrix $b$ with inverse of the matrix $A$, we can obtain the solution matrix $X$.\n",
    "\n",
    "We can demonstrate with an example.\n",
    "\n",
    "Solve the following set of linear equations.\n",
    "\\begin{align}\n",
    "x + 2y + z = 7\\\\\n",
    "2x-2y - z = 5 \\\\\n",
    "x + 4y -3z = 6 \n",
    "\\end{align}\n"
   ]
  },
  {
   "cell_type": "code",
   "execution_count": 38,
   "id": "ac26ba46",
   "metadata": {},
   "outputs": [
    {
     "name": "stdout",
     "output_type": "stream",
     "text": [
      "the solution matrix:  [4.  1.1 0.8]\n"
     ]
    }
   ],
   "source": [
    "import numpy as np\n",
    "a = np.array([[1, 2, 1], [2, -2, -1], [1, 4, -3] ])\n",
    "b = np.array([7, 5, 6])\n",
    "a_inv = np.linalg.inv(a)\n",
    "x = np.matmul(a_inv,b)\n",
    "print(\"the solution matrix: \",x)"
   ]
  },
  {
   "cell_type": "markdown",
   "id": "56ae901c",
   "metadata": {},
   "source": [
    "### Root finding - Bisection method"
   ]
  },
  {
   "cell_type": "code",
   "execution_count": 40,
   "id": "fc49be65",
   "metadata": {},
   "outputs": [],
   "source": [
    "\n",
    "import numpy as np\n",
    "\n",
    "def rootBisection(f, a, b, tol):\n",
    "\tfa, fb = f(a), f(b)\n",
    "\twhile abs(a-b)>tol:\n",
    "\t\tn = 1\n",
    "\t\tm = (a+b)/2\n",
    "\t\tfm = f(m)\n",
    "\t\tif np.sign(fa) == np.sign(fm):\n",
    "\t\t\ta, fa = m, fm\n",
    "\t\telse:\n",
    "\t\t\tb, fb = m, fm\n",
    "\t\tn += 1\n",
    "\treturn m"
   ]
  },
  {
   "cell_type": "markdown",
   "id": "ca095d42",
   "metadata": {},
   "source": [
    "We now run the following code with a given function ($f$) whose root is to be evaluated using the function `rootBisection(f, a, b, tol)` within the interval (a, b) with a given tolerance value (`tol`)."
   ]
  },
  {
   "cell_type": "code",
   "execution_count": 41,
   "id": "4b465945",
   "metadata": {},
   "outputs": [
    {
     "name": "stdout",
     "output_type": "stream",
     "text": [
      "The root of the function is  0.6953125\n"
     ]
    }
   ],
   "source": [
    "f = lambda x : np.exp(x) - 2\n",
    "tol = 0.01\n",
    "a, b = -2, 2\n",
    "root = rootBisection(f, a, b, tol)\n",
    "print(\"The root of the function is \",root)"
   ]
  },
  {
   "cell_type": "markdown",
   "id": "f20d531b",
   "metadata": {},
   "source": [
    "The following piece of code helps us to understand, how we do approach towards the root. If the code appears little complicated for beginners, then, one can igonore the code and concentrate on the graphics."
   ]
  },
  {
   "cell_type": "code",
   "execution_count": 42,
   "id": "96bb214e",
   "metadata": {},
   "outputs": [
    {
     "data": {
      "text/plain": [
       "Text(-1, 2, 'Root approx. at 0.6875')"
      ]
     },
     "execution_count": 42,
     "metadata": {},
     "output_type": "execute_result"
    },
    {
     "data": {
      "image/png": "[encoded data removed]",
      "text/plain": [
       "<Figure size 432x288 with 1 Axes>"
      ]
     },
     "metadata": {
      "needs_background": "light"
     },
     "output_type": "display_data"
    }
   ],
   "source": [
    "import numpy as np\n",
    "import matplotlib.pyplot as plt\n",
    "\n",
    "f = lambda x:np.exp(x)-2\n",
    "tol = 0.1\n",
    "a, b = -2, 2\n",
    "\n",
    "x = np.linspace(-2.1, 2.1, 1000)\n",
    "plt.plot(x, f(x), color='cyan')\n",
    "plt.axhline(0, ls=':', color='k')\n",
    "plt.xticks([-2, -1, 0, 1, 2])\n",
    "plt.xlabel(r\"$x$\", fontsize=16)\n",
    "plt.ylabel(r\"$f(x)$\", fontsize=16)\n",
    "\n",
    "# Find the root using \"Bisection method\" and visualize\n",
    "fa, fb = f(a), f(b)\n",
    "plt.plot(a, fa, 'ko')\n",
    "plt.plot(b, fb, 'ko')\n",
    "plt.text(a, fa+0.5, \"a\", ha='center', fontsize=16)\n",
    "plt.text(b, fb+0.5, \"b\", ha='center', fontsize=16)\n",
    "\n",
    "\n",
    "n =1\n",
    "while (b-a) > tol:\n",
    "\tm = (a+b)/2\n",
    "\tfm = f(m)\n",
    "\tplt.plot(m, fm, 'bo')\n",
    "\tplt.text(m, fm-0.5, '$m_%d$'%n, ha = 'center')\n",
    "\t\n",
    "\tn +=1\n",
    "\t\n",
    "\tif np.sign(fa) == np.sign(fm):\n",
    "\t\ta, fa = m, fm\n",
    "\telse:\n",
    "\t\tb, fb = m, fm\n",
    "plt.plot(m, fm, 'r*')\n",
    "plt.text(m, fm-0.5, '$m_{}$'+str(n), ha = 'center')        \n",
    "plt.annotate(\"Root approx. at \"+str(m),xy=(m,fm), xytext=(-1, 2), arrowprops=dict(arrowstyle='->'))"
   ]
  },
  {
   "cell_type": "markdown",
   "id": "bd5495d6",
   "metadata": {},
   "source": [
    "The original idea of the above graphics is due to Mark Johansson."
   ]
  },
  {
   "cell_type": "markdown",
   "id": "0d8c9499",
   "metadata": {},
   "source": [
    "### Root finding - Newton-Raphson method"
   ]
  },
  {
   "cell_type": "code",
   "execution_count": 43,
   "id": "eadf96d3",
   "metadata": {},
   "outputs": [
    {
     "name": "stdout",
     "output_type": "stream",
     "text": [
      "Root = 0.693\n"
     ]
    }
   ],
   "source": [
    "def rootNewtonRaphson(f, x0, tol):\n",
    "\tx = sp.symbols('x')\n",
    "\tf_prime = sp.diff(f, x)\n",
    "\t\n",
    "\tf = sp.lambdify(x, f, 'numpy')\n",
    "\tf_prime = sp.lambdify(x, f_prime, 'numpy')\n",
    "\t\n",
    "\twhile f(x0)> tol:\n",
    "\t\txnew = x0 - (f(x0)/f_prime(x0))\n",
    "\t\tx0 = xnew\n",
    "\treturn x0\n",
    "\n",
    "import sympy as sp\n",
    "\n",
    "x = sp.symbols('x')\n",
    "f = sp.exp(x) -2\n",
    "x0 = 1.4\n",
    "tol = 1e-4\n",
    "root = rootNewtonRaphson(f, x0, tol)\n",
    "print(\"Root = %0.3f\"%root)"
   ]
  },
  {
   "cell_type": "markdown",
   "id": "4f69af4f",
   "metadata": {},
   "source": [
    "The following piece of code helps us to understand the real approach to locate the root. However, if the code appears difficult, one may ignore it for the time being, and concentrate on the graphics."
   ]
  },
  {
   "cell_type": "code",
   "execution_count": 44,
   "id": "6600b9d2",
   "metadata": {},
   "outputs": [
    {
     "data": {
      "text/plain": [
       "Text(0, 3, 'Root is found approx. at 0.693')"
      ]
     },
     "execution_count": 44,
     "metadata": {},
     "output_type": "execute_result"
    },
    {
     "data": {
      "image/png": "[encoded data removed]",
      "text/plain": [
       "<Figure size 432x288 with 1 Axes>"
      ]
     },
     "metadata": {
      "needs_background": "light"
     },
     "output_type": "display_data"
    }
   ],
   "source": [
    "import numpy as np\n",
    "import matplotlib.pyplot as plt\n",
    "import sympy as sp\n",
    "x = sp.symbols('x')\n",
    "f = sp.Function('f')\n",
    "f = sp.exp(x) - 2\n",
    "f_prime = sp.diff(f, x)\n",
    "\n",
    "f = sp.lambdify(x, f, 'numpy')\n",
    "f_prime = sp.lambdify(x, f_prime, 'numpy')\n",
    "\n",
    "x = np.linspace(-1, 2.1, 1000)\n",
    "xk = 2\n",
    "tol = 0.01\n",
    "\n",
    "plt.plot(x, f(x), ls='-', color='blue')\n",
    "plt.axhline(0, ls=':', color='k')\n",
    "\n",
    "n = 1\n",
    "while f(xk)> tol:\n",
    "\tplt.plot([xk, xk], [0, f(xk)], ls=':', color='gray')\n",
    "\tplt.plot(xk, f(xk), marker='o', color='blue')\n",
    "\tplt.text(xk, -0.5, \"$x_{%d}$\"%n)\n",
    "\txnew = xk - (f(xk)/f_prime(xk))\n",
    "\tplt.plot([xk, xnew], [f(xk), 0], ls='-',color='gray')\n",
    "\txk = xnew\n",
    "\tn += 1\n",
    "plt.plot(xk, f(xk), marker='*', color='red')\n",
    "plt.annotate(\"Root is found approx. at %0.3f\"%xk, xy=(xk, f(xk)), xytext=(0, 3), arrowprops=dict(arrowstyle='->'))"
   ]
  },
  {
   "cell_type": "markdown",
   "id": "6ca447ac",
   "metadata": {},
   "source": [
    "The original idea of the above graphics is due to Mark Johansson."
   ]
  },
  {
   "cell_type": "markdown",
   "id": "4eaa4318",
   "metadata": {},
   "source": [
    "### Practical Problems\n",
    "\n",
    "#### I) $\\tan x = x$"
   ]
  },
  {
   "cell_type": "code",
   "execution_count": 7,
   "id": "482951af",
   "metadata": {},
   "outputs": [
    {
     "name": "stdout",
     "output_type": "stream",
     "text": [
      "Root = 4.493\n",
      "Root (interms of pi/2) = 2.861\n",
      "Root = 7.725\n",
      "Root (interms of pi/2) = 4.918\n",
      "Root = 10.904\n",
      "Root (interms of pi/2) = 6.942\n"
     ]
    },
    {
     "data": {
      "image/png": "[encoded data removed]",
      "text/plain": [
       "<Figure size 648x504 with 1 Axes>"
      ]
     },
     "metadata": {
      "needs_background": "light"
     },
     "output_type": "display_data"
    }
   ],
   "source": [
    "import numpy as np\n",
    "import sympy as sp\n",
    "import matplotlib.pyplot as plt\n",
    "\n",
    "def figure():\n",
    "\tfig, ax = plt.subplots(figsize=(9, 7))\n",
    "\t# set the x-spine\n",
    "\tax.spines['left'].set_position('zero')\n",
    "\t\n",
    "\t# turn off the right spine/ticks\n",
    "\tax.spines['right'].set_color('none')\n",
    "\tax.yaxis.tick_left()\n",
    "\t\n",
    "\t# set the y-spine\n",
    "\tax.spines['bottom'].set_position('zero')\n",
    "\t\n",
    "\t# turn off the top spine/ticks\n",
    "\tax.spines['top'].set_color('none')\n",
    "\tax.xaxis.tick_bottom()\n",
    "\t\n",
    "def rootNewtonRaphson(f, x0, tol):\n",
    "\tx = sp.symbols('x')\n",
    "\tf_prime = sp.diff(f, x)\n",
    "\t\n",
    "\tf = sp.lambdify(x, f, 'numpy')\n",
    "\tf_prime = sp.lambdify(x, f_prime, 'numpy')\n",
    "\t\n",
    "\twhile abs(f(x0))> tol:\n",
    "\t\txnew = x0 - (f(x0)/f_prime(x0))\n",
    "\t\tx0 = xnew\n",
    "\treturn x0\n",
    "\n",
    "x = sp.symbols('x')\n",
    "f = sp.tan(x) - x\n",
    "tol = 1e-4\n",
    "figure()\n",
    "x = np.arange(0, 4*np.pi, 4*np.pi/100)\n",
    "plt.plot(x, np.tan(x), color='blue', label='$x=\\\\tan x$')\n",
    "plt.plot(x, x, color='cyan', label='$x=x$')\n",
    "for n in range(3, 9, 2):\n",
    "\tx0 = (n*np.pi/2)*0.999\n",
    "\troot = rootNewtonRaphson(f, x0, tol)\n",
    "\tprint(\"Root = %0.3f\"%root)\n",
    "\tprint(\"Root (interms of pi/2) = %0.3f\"%(root*2/np.pi))\n",
    "\tplt.plot(root, np.tan(root), 'ro', markersize=5)\n",
    "\tplt.plot(root, root, 'ro', markersize=5)\n",
    "\tplt.plot([root, root], [0, root], ls=':', color='blue')\n",
    "\tplt.text(root-0.8, root+0.1, ''+str(round((root/np.pi),2))+'$\\pi$')\n",
    "plt.xticks(np.arange(0, 4*np.pi+np.pi/2, np.pi/2), ('$0$', '$\\\\frac{\\pi}{2}$', '$\\pi$', '$3\\\\frac{\\pi}{2}$', '$2\\pi$', '$5\\\\frac{\\pi}{2}$', '$3\\pi$', '$7\\\\frac{\\pi}{2}$', '$4\\pi$'))\n",
    "plt.legend()\n",
    "plt.show()"
   ]
  },
  {
   "cell_type": "markdown",
   "id": "a209675f",
   "metadata": {},
   "source": [
    "#### II) $I = I_0\\left[\\frac{\\sin\\alpha}{\\alpha}\\right]^2$\n",
    "\n",
    "The above expression can be simplied as\n",
    "\\begin{equation}\n",
    "\\sin \\alpha = \\sqrt{m}\\alpha \n",
    "\\end{equation}\n",
    "where, $(I/I_0) =m $.\n",
    "\n",
    "Consider, $m=2$ and writing $x$ inplace of $\\alpha$, we obtain\n",
    "\\begin{equation}\n",
    "x = \\sqrt{2}\\sin x\n",
    "\\end{equation}"
   ]
  },
  {
   "cell_type": "code",
   "execution_count": 10,
   "id": "301adae6",
   "metadata": {},
   "outputs": [
    {
     "data": {
      "image/png": "[encoded data removed]",
      "text/plain": [
       "<Figure size 432x288 with 1 Axes>"
      ]
     },
     "metadata": {
      "needs_background": "light"
     },
     "output_type": "display_data"
    }
   ],
   "source": [
    "def f(x):\n",
    "    return x - np.sqrt(2)*np.sin(x)\n",
    "\n",
    "def df(x):\n",
    "    return 1 - np.sqrt(2)*np.cos(x)\n",
    "\n",
    "def NewtonRaphson(f, df, x, tol):\n",
    "    dx = f(x)/df(x)\n",
    "    iter = 0\n",
    "    while (abs(dx) >= tol):\n",
    "        x = x - dx\n",
    "        dx = f(x)/df(x)\n",
    "        iter += 1\n",
    "    return iter, x\n",
    "\n",
    "x = np.linspace(0, np.pi, 1000)\n",
    "\n",
    "fig, ax = plt.subplots()\n",
    "ax.spines['bottom'].set_position('zero')\n",
    "ax.spines['top'].set_position('zero')\n",
    "ax.spines['left'].set_position('zero')\n",
    "ax.spines['right'].set_position('zero')\n",
    "ax.plot(x, np.sqrt(2)*np.sin(x), color='blue', label=\"$y = \\sqrt{2}\\sin(x)$\")\n",
    "ax.plot(x, x, color='red', label=\"$y=x$\")\n",
    "plt.xticks(np.arange(0, 3*np.pi/2, np.pi/2), ('$0$', '$\\\\frac{\\pi}{2}$', '$\\pi$'))\n",
    "ax.legend(loc='upper right')\n",
    "plt.axvline(x=np.pi/2, color='k', linestyle=\":\")\n",
    "plt.show()"
   ]
  },
  {
   "cell_type": "markdown",
   "id": "9940d4f6",
   "metadata": {},
   "source": [
    "## Ordinary Differential Equations\n",
    "\n",
    "#### Problem - 1\n",
    "\n",
    "Solve the coupled first order differential equations\n",
    "\\begin{align}\n",
    "&\\frac{dx}{dt} = y + x - \\frac{x^3}{3} \\\\\n",
    "&\\frac{dy}{dt} = -x\n",
    "\\end{align}\n",
    "\n",
    "for four initial conditions $x(0) = 0$, $y(0) = -1, -2, -3, -4$. Plot x vs y for each of the\n",
    "four initial conditions on the same screen for $0 \\le t \\le 15$."
   ]
  },
  {
   "cell_type": "code",
   "execution_count": 11,
   "id": "aaee62b1",
   "metadata": {},
   "outputs": [],
   "source": [
    "import numpy as np\n",
    "from scipy.integrate import odeint\n",
    "import matplotlib.pyplot as plt"
   ]
  },
  {
   "cell_type": "code",
   "execution_count": 20,
   "id": "a52b0693",
   "metadata": {},
   "outputs": [
    {
     "data": {
      "image/png": "[encoded data removed]",
      "text/plain": [
       "<Figure size 432x288 with 1 Axes>"
      ]
     },
     "metadata": {
      "needs_background": "light"
     },
     "output_type": "display_data"
    }
   ],
   "source": [
    "t = np.linspace(0, 15, 100)\n",
    "for y0 in range(-1, -5, -1):\n",
    "    x0\n",
    "    z0 = [x0, y0]\n",
    "\n",
    "    def model(z, t):\n",
    "        x, y = z\n",
    "        dx_dt = y + x - x**3/3\n",
    "        dy_dt = -x\n",
    "        dz_dt = np.array([dx_dt, dy_dt])\n",
    "        return dz_dt\n",
    "\n",
    "    sol = odeint(model, z0, t)\n",
    "    x, y = sol[:, 0], sol[:, 1]\n",
    "    plt.plot(x, y, label='y = '+str(y0))\n",
    "    plt.xlabel('x', fontsize=14)\n",
    "    plt.ylabel('y', fontsize=14)\n",
    "    plt.legend()\n",
    "plt.grid()\n",
    "plt.show()"
   ]
  },
  {
   "cell_type": "markdown",
   "id": "4cbd8b77",
   "metadata": {},
   "source": [
    "#### Problem - 2\n",
    "\n",
    "The ordinary differential equation describing the motion of a pendulum is\n",
    "$$\\theta^{\\prime\\prime} = -\\sin \\theta $$\n",
    "\n",
    "The pendulum is released from rest at an angular displacement $\\alpha$, i.e. $\\theta(0) = \\alpha$, $\\theta^{\\prime}(0)=0$. Use the RK4 method to solve the equation for $\\alpha$ = 0.1, 0.5 and 1.0\n",
    "and plot $\\theta$ as a function of time in the range $0 \\le t \\le 8\\pi$. Also, plot the analytic\n",
    "solution valid in the small $\\theta$ ($\\sin \\theta \\approx \\theta$).\n",
    "\n",
    "The given equation is a second order differential equation. This, we have to break up into two first order differential equations. Consider,\n",
    "\\begin{align}\n",
    "&\\frac{d\\theta}{dt} = \\omega \\\\\n",
    "&\\frac{d\\omega}{dt} = -\\sin \\theta\n",
    "\\end{align}\n",
    "So, we can represent these two equations by a single equation such that\n",
    "\\begin{align}\n",
    "\\frac{d}{dt}\n",
    "\\begin{bmatrix}\n",
    "\\theta \\\\\n",
    "\\omega\n",
    "\\end{bmatrix}=\n",
    "\\begin{bmatrix}\n",
    "\\omega \\\\\n",
    "-\\sin \\theta\n",
    "\\end{bmatrix}\n",
    "\\end{align}"
   ]
  },
  {
   "cell_type": "code",
   "execution_count": 45,
   "id": "7e58ae6b",
   "metadata": {},
   "outputs": [
    {
     "data": {
      "image/png": "[encoded data removed]",
      "text/plain": [
       "<Figure size 432x288 with 1 Axes>"
      ]
     },
     "metadata": {
      "needs_background": "light"
     },
     "output_type": "display_data"
    }
   ],
   "source": [
    "t = np.linspace(0, 8*np.pi, 100)\n",
    "dt   = (t[-1] - t[0])/len(t)\n",
    "\n",
    "z = np.zeros([len(t), 2])       # to store the values \n",
    "                                # of theta and omega\n",
    "\n",
    "\n",
    "def model(z, t):\n",
    "    theta, omega = z\n",
    "    dtheta_dt = omega\n",
    "    domega_dt = -np.sin(theta)\n",
    "    dz_dt     = np.array([dtheta_dt, domega_dt])\n",
    "    return dz_dt\n",
    "\n",
    "def rk4(z, t):\n",
    "    k1 = model(z, t)\n",
    "    k2 = model(z + k1*dt/2, t + dt/2)\n",
    "    k3 = model(z + k2*dt/2, t + dt/2)\n",
    "    k4 = model(z + k3*dt, t + dt)\n",
    "    z  = z + (1/6)*(k1 +2*(k2 + k3) + k4)*dt\n",
    "    return z\n",
    "\n",
    "for theta0 in [0.1, 0.5, 1.0]:\n",
    "    omega0 = 0\n",
    "    z[0] = [theta0, omega0]   # initial state of oscillation\n",
    "    \n",
    "    for i in range(len(t)-1):\n",
    "        z[i+1] = rk4(z[i], t[i])\n",
    "    \n",
    "    theta, omega = z[:, 0], z[:, 1]\n",
    "\n",
    "    plt.plot(t, theta, label='$\\\\theta_0 = $'+str(theta0))\n",
    "\n",
    "plt.legend(loc= 'upper right')\n",
    "plt.xlabel('t', fontsize=14)\n",
    "plt.ylabel('$\\\\theta(t)$', fontsize=14)\n",
    "plt.show()"
   ]
  },
  {
   "cell_type": "markdown",
   "id": "b03711ea",
   "metadata": {},
   "source": [
    "#### Problem - 3\n",
    "\n",
    "Solve the differential equation:\n",
    "\\begin{align}\n",
    "x^2\\frac{d^2y}{dx^2} - 4x(1+x)\\frac{dy}{dx} + 2(1 + x)y = x^3\n",
    "\\end{align}\n",
    "\n",
    "with the boundary conditions:\n",
    "\n",
    "at $x = 1$, $y = (1/2) e^2$, $dy/dx = - (3/2) e^2– 0.5$, in the range $1\\le x \\le 3$. Plot $y$ and $\\frac{dy}{dx}$ against $x$ in the given range. Both should appear on the same graph.\n",
    "\n",
    "Let us break up the given second order differential equation into two first order differential equations -\n",
    "\\begin{align}\n",
    "&\\frac{dy}{dx} = z \\\\\n",
    "&\\frac{dz}{dx} = \\frac{4(1+x)}{x}z - \\frac{2(1+x)}{x^2}y +x\n",
    "\\end{align}"
   ]
  },
  {
   "cell_type": "code",
   "execution_count": 77,
   "id": "89a41868",
   "metadata": {},
   "outputs": [
    {
     "data": {
      "image/png": "[encoded data removed]",
      "text/plain": [
       "<Figure size 432x288 with 1 Axes>"
      ]
     },
     "metadata": {
      "needs_background": "light"
     },
     "output_type": "display_data"
    }
   ],
   "source": [
    "x = np.linspace(1, 3, 100)\n",
    "y0 = (1/2)*np.e**2\n",
    "z0 = -(3/2)*np.e**2 - 0.5\n",
    "u0 = [y0, z0]\n",
    "\n",
    "def model(u, x):\n",
    "    y, z = u\n",
    "    dy_dx = z\n",
    "    dz_dx = 4*(1+x)*z/x - 2*(1+x)*y/x**2 + x\n",
    "    du_dx = np.array([dy_dx, dz_dx])\n",
    "    return du_dx\n",
    "\n",
    "sol = odeint(model, u0, x)\n",
    "y, z = sol[:, 0], sol[:, 1]\n",
    "\n",
    "plt.plot(x, y, color='blue', label='$y$')\n",
    "plt.plot(x, z, color='red', label='$\\\\frac{dy}{dx}$')\n",
    "plt.legend()\n",
    "plt.xlabel('x')\n",
    "plt.ylabel(\"$y$ and $\\\\frac{dy}{dx}$\")\n",
    "plt.show()"
   ]
  }
 ],
 "metadata": {
  "kernelspec": {
   "display_name": "Python 3",
   "language": "python",
   "name": "python3"
  },
  "language_info": {
   "codemirror_mode": {
    "name": "ipython",
    "version": 3
   },
   "file_extension": ".py",
   "mimetype": "text/x-python",
   "name": "python",
   "nbconvert_exporter": "python",
   "pygments_lexer": "ipython3",
   "version": "3.7.6"
  }
 },
 "nbformat": 4,
 "nbformat_minor": 5
}
