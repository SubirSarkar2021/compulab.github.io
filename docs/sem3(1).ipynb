{
 "cells": [
  {
   "cell_type": "markdown",
   "id": "39172cf6",
   "metadata": {},
   "source": [
    "# Computer Lab - Semester 3"
   ]
  },
  {
   "cell_type": "markdown",
   "id": "df877542",
   "metadata": {},
   "source": [
    "## Solution of Linear system of equations"
   ]
  },
  {
   "cell_type": "markdown",
   "id": "387e5b59",
   "metadata": {},
   "source": [
    "#### Gauss elimination method"
   ]
  },
  {
   "cell_type": "markdown",
   "id": "ce750840",
   "metadata": {},
   "source": [
    "It is a method to solve simultaneous linear equations. It is performed in two satges\n",
    "\n",
    "* Elimination\n",
    "* Backsubstitution\n",
    "\n",
    "Before we develope the algorithim for solving a set of equations by Gauss elimination method, let us try to understand the steps with the help of an example.\n",
    "\n",
    "Suppose the set of equations are represented in matrix form by $AX=B$. In the elimination stage, the matrix equation $AX=B$ is transformed into the form $UX=B$, where $U$ is an upper triangular matrix. Let us try to understand it by taking an example. Consider the following set of equations.\n",
    "\n",
    "\n",
    "\\begin{align}\n",
    "&4x_1 - 2x_2 +x_3 = 11 \\label{eq1a}\\tag{1a}\\\\\n",
    "&-2x_1 + 4x_2 -2x_3 = -16 \\label{eq1b}\\tag{1b} \\\\\n",
    "&x_1 -2x_2 + 4x_3 = 17\\label{eq1c}\\tag{1c}\n",
    "\\end{align}\n",
    "\n",
    "Suppose, we have a set of equations and out which we choose a particular equation, say $(j)$, called **pivot equation**. In the elimination stage, we multiply the pivot equation $(j)$ by a number $\\lambda$ and subtract it from another equation, say $(i)$. Symbolically, it is represented as\n",
    "\\begin{equation}\n",
    "Eq.(i)\\leftarrow Eq.(i) - \\lambda \\times Eq.(j)\n",
    "\\end{equation}\n",
    "\n",
    "Let us choose Eq (\\eqref{eq1a}) as our *pivot equation* and multiply it by $\\lambda$ so that we can eliminate $x_1$ from Eq.s (\\ref{eq1b} and \\ref{eq1c}). We perform following two operations:\n",
    "\\begin{equation}\n",
    "\\begin{aligned}\n",
    "&Eq.(\\ref{eq1b})\\leftarrow Eq.(\\ref{eq1b}) - (-0.5) \\times Eq.(\\ref{eq1a}) \\\\\n",
    "&Eq.(\\ref{eq1c})\\leftarrow Eq.(\\ref{eq1c}) - (0.25) \\times Eq.(\\ref{eq1a})\n",
    "\\end{aligned}\n",
    "\\end{equation}\n",
    "\n",
    "After this transformation, the set of equations become\n",
    "\n",
    "\\begin{align}\n",
    "4x_1 - 2x_2 +x_3 = 11 \\label{eq2a}\\tag{2a}\\\\\n",
    "3x_2 -1.5x_3 = -10.5 \\label{eq2b}\\tag{2b} \\\\\n",
    "-1.5x_2 + 3.75x_3 = 14.25\\label{eq2c}\\tag{2c}\n",
    "\\end{align}\n",
    "\n",
    "In this way, we have completed the first round of the elimination phase. Next, we choose Eq. (\\eqref{eq2b}) as our *pivot equation* and try to eliminate $x_2$ from Eq. (\\eqref{eq2c}):\n",
    "\n",
    "\\begin{equation}\n",
    "Eq.(\\eqref{eq2c})\\leftarrow Eq.(\\eqref{eq2c}) - (-0.5) \\times Eq.(\\eqref{eq2b})\n",
    "\\end{equation}\n",
    "\n",
    "After this operation, we finally get following set of equations -\n",
    "\n",
    "\n",
    "\\begin{align}\n",
    "4x_1 - 2x_2 +x_3 = 11 \\label{eq3a}\\tag{eq3a}\\\\\n",
    "3x_2 -1.5x_3 = -10.5 \\label{eq3b}\\tag{eq3b} \\\\\n",
    "3x_3 = 9\\label{eq3c}\\tag{eq3c}\n",
    "\\end{align}\n",
    "\n",
    "The elimation phase is now complete and the matrix $A$ has transformed into upper triangular matrix $U$.\n",
    "\n",
    "In the back substitution phase, the unknowns can be computed as follows -\n",
    "\n",
    "\\begin{align}\n",
    "&x_3=9/3=3 \\tag{eq4a}\\\\\n",
    "&x_2=(-10.5 + 1.5x_3)/3= (-10.5 + 1.5(3))/3 = -2 \\tag{eq4b} \\\\\n",
    "&x_1 = (11 + 2x_2 - x_3)/4 = (11 + 2(-2) - 3)/4 = 1 \\tag{eq4c}\n",
    "\\end{align}\n",
    "\n",
    "#### Algorithim of Gauss Elimination Method\n",
    "\n",
    "##### Elimination phase\n",
    "\n",
    "Let the $i$ th row be the typical row below pivot equation that is to be  transformed, i.e. we have to eliminate the element $a_{ik}$ from this row. This we can achieve by multiplying the pivot row by $\\lambda = a_{ik}/a_{kk}$ and then subtracting it from $i$ th row. The corresponding change in $i$ th rwo are\n",
    "\n",
    "\\begin{align}\n",
    "&a_{ij} \\leftarrow a_{ij} - \\lambda a_{kj},\\hspace{0.5cm}j=k, k+1, \\cdots n\\\\\n",
    "&b_i \\leftarrow b_i - \\lambda b_k \\label{4}\\tag{4}\n",
    "\\end{align}\n",
    "\n",
    "To transform the entire coefficient matrix into upper triangular form, $k$ and $i$ in Eq. (\\eqref{4}) have ranges - \n",
    "\n",
    "\\begin{align}\n",
    "& k = 1, 2, \\cdots n \\hspace{2cm} \\mbox{(choose the pivot row)}\\\\\n",
    "& i = k+1, k+2, \\cdots n \\hspace{1cm} \\mbox{(choose the rows to be transformed)}\n",
    "\\end{align}\n",
    "\n",
    "The code in Python can be scripted as follows -"
   ]
  },
  {
   "cell_type": "markdown",
   "id": "e1bc2576",
   "metadata": {},
   "source": [
    "```python\n",
    "for k in range(n):\n",
    "    for i in range(k+1, n):\n",
    "        if a[i, k] != 0:\n",
    "            lam = a[i, k]/a[k, k]\n",
    "            a[i, :] = a[i, :] - lam*a[k, :]\n",
    "            b[i] = b[i] - lam*b[k]\n",
    "```"
   ]
  },
  {
   "cell_type": "markdown",
   "id": "e0b0850f",
   "metadata": {},
   "source": [
    "##### Back substitution\n",
    "\n",
    "After elimination phase, the augmented coefficient matrix has the form \n",
    "\n",
    "\\begin{equation}\n",
    "\\begin{pmatrix}\n",
    "a_{11} & a_{12} & a_{13} & \\cdots & a_{1n} \\\\\n",
    "0 & a_{22} & a_{23} & \\cdots &  a_{2n} \\\\\n",
    "0 & 0 & a_{33} & \\cdots & a_{3n} \\\\\n",
    "\\vdots & \\vdots & \\vdots & \\cdots & \\vdots \\\\\n",
    "0 & 0 & 0 & \\cdots & a_{nn} \\\\\n",
    "\\end{pmatrix}\n",
    "\\end{equation}\n",
    "\n",
    "The last equation $a_{nn}x_n=b_n$ is solved first, yielding\n",
    "\n",
    "\\begin{equation}\n",
    "x_n=\\frac{b_n}{a_{nn}}\n",
    "\\end{equation}\n",
    "\n",
    "Consider now the stages of back substitution where $x_n$, $x_{n-1}$, $\\cdots$, $x_{k+1}$ have been evaluated and we are about to determine $x_k$ from the $k$ th equation equation\n",
    "\n",
    "\\begin{equation}\n",
    "a_{kk}x_k + a_{k, k+1}x_{k+1} + \\cdots + a_{kn}x_n = b_k\n",
    "\\end{equation}\n",
    "\n",
    "The solution is\n",
    "\n",
    "\\begin{equation}\n",
    "x_k = \\left( b_k - \\sum_{j=k+1}{n}a_{kj}x_{j}\\right) \\frac{1}{{a_{kk}}}, \\hspace{0.5cm} k = n-1, n-2, \\cdots 1\n",
    "\\end{equation}\n",
    "\n",
    "This can be implemented in Python with the following lines of code -"
   ]
  },
  {
   "cell_type": "markdown",
   "id": "6bbe182d",
   "metadata": {},
   "source": [
    "```python\n",
    "for k in range(n-1, -1, -1):\n",
    "    x[k] = (b[k] - np.dot(a[k, k+1:n], x[k+1:n]))/a[k,k]\n",
    "```"
   ]
  },
  {
   "cell_type": "markdown",
   "id": "c8fee287",
   "metadata": {},
   "source": [
    "We now try to solve the set of equations which we started at the beginning."
   ]
  },
  {
   "cell_type": "code",
   "execution_count": 10,
   "id": "e9fe9ccb",
   "metadata": {},
   "outputs": [
    {
     "name": "stdout",
     "output_type": "stream",
     "text": [
      "[[ 4. -2.  1.]\n",
      " [-2.  4. -2.]\n",
      " [ 1. -2.  4.]] [ 11. -16.  17.]\n"
     ]
    }
   ],
   "source": [
    "import numpy as np\n",
    "\n",
    "# Matrix construction based on given system of equations\n",
    "\n",
    "A = np.array([[4, -2, 1], [-2, 4, -2], [1, -2, 4]], dtype=float)\n",
    "b = np.array([11, -16, 17], dtype=float)\n",
    "X = np.copy(b)\n",
    "n = len(b)\n",
    "print(A, b)"
   ]
  },
  {
   "cell_type": "code",
   "execution_count": 11,
   "id": "5c3f3173",
   "metadata": {},
   "outputs": [
    {
     "name": "stdout",
     "output_type": "stream",
     "text": [
      "[[ 4.  -2.   1. ]\n",
      " [ 0.   3.  -1.5]\n",
      " [ 0.   0.   3. ]] [ 11.  -10.5   9. ]\n"
     ]
    }
   ],
   "source": [
    "# Gauss Elimination Phase - converting to Upper Triangular matrix\n",
    "\n",
    "for k in range(n):\n",
    "    for i in range(k+1, n):\n",
    "        if A[i, k] != 0:\n",
    "            lam = A[i, k]/A[k, k]\n",
    "            A[i, :] = A[i, :] - lam*A[k, :]\n",
    "            b[i] = b[i] - lam*b[k]\n",
    "print(A, b)"
   ]
  },
  {
   "cell_type": "code",
   "execution_count": 12,
   "id": "68a1d118",
   "metadata": {},
   "outputs": [
    {
     "name": "stdout",
     "output_type": "stream",
     "text": [
      "The solution matrix (X) - \n",
      "[ 1. -2.  3.]\n"
     ]
    }
   ],
   "source": [
    "# Back substitution phase\n",
    "\n",
    "for k in range(n-1, -1, -1):\n",
    "    X[k] = (b[k] - np.dot(A[k, k+1:n], X[k+1:n]))/A[k,k]\n",
    "    \n",
    "# Printing solutions\n",
    "print('The solution matrix (X) - \\n'+str(X))"
   ]
  },
  {
   "cell_type": "markdown",
   "id": "139f8dfb",
   "metadata": {},
   "source": [
    "#### Gauss Siedel Method (Iterative method)\n",
    "\n",
    "The $n\\times n$ linear system of equations can be solved by iterative method. The most fundamental of the iterative method is the **Jacobi method** and slight modified version is the **Gauss Siedel method**.\n",
    "\n",
    "For simplicity,  consider a $3\\times3$ system\n",
    "\n",
    "\\begin{align}\n",
    "a_{11}x_1 + a_{12}x_2 + a_{13} x_3 = b_1 \\\\\n",
    "a_{21}x_1 + a_{22}x_2 + a_{23} x_3 = b_2 \\\\\n",
    "a_{31}x_1 + a_{32}x_2 + a_{33} x_3 = b_3 \n",
    "\\end{align}\n",
    "\n",
    "When the diagonal elements of the system are non-zero, we can rewrite the above equation as\n",
    "\n",
    "\\begin{align}\n",
    "x_1 = \\frac{1}{a_{11}}(b_1 - a_{12}x_2 - a_{13}x_3) \\\\\n",
    "x_2 = \\frac{1}{a_{22}}(b_2 - a_{21}x_1 - a_{23}x_3) \\\\\n",
    "x_3 = \\frac{1}{a_{33}}(b_3 - a_{31}x_1 - a_{32}x_2) \n",
    "\\end{align}\n",
    "\n",
    "Let $x^{(0)}=(x_1^{(0)}, x_2^{(0)}, x_3^{(0)})$ be an initial guess to the true solution of $x$, then define an iteration sequence:\n",
    "\n",
    "\\begin{align}\n",
    "x_1^{(m+1)} = \\frac{1}{a_{11}}(b_1 - a_{12}x_2^{(m)} - a_{13}x_3^{(m)}) \\\\\n",
    "x_2^{(m+1)} = \\frac{1}{a_{22}}(b_2 - a_{21}x_1^{(m)} - a_{23}x_3^{(m)}) \\\\\n",
    "x_3^{(m+1)} = \\frac{1}{a_{33}}(b_3 - a_{31}x_1^{(m)} - a_{32}x_2^{(m)}) \n",
    "\\end{align}\n",
    "\n",
    "for $m=0, 1, 2, \\cdots$. This is called **Jacobi Iteration method**.\n",
    "\n",
    "A modified version of Jacobi method is the **Gauss Siedel method** and is given by\n",
    "\n",
    "\\begin{align}\n",
    "&x_1^{(m+1)} = \\frac{1}{a_{11}}(b_1 - a_{12}x_2^{(m)} - a_{13}x_3^{(m)}) \\\\\n",
    "&x_2^{(m+1)} = \\frac{1}{a_{22}}(b_2 - a_{21}x_1^{(m+1)} - a_{23}x_3^{(m)}) \\\\\n",
    "&x_3^{(m+1)} = \\frac{1}{a_{33}}(b_3 - a_{31}x_1^{(m+1)} - a_{32}x_2^{(m+1)}) \n",
    "\\end{align}\n"
   ]
  },
  {
   "cell_type": "code",
   "execution_count": 13,
   "id": "1cf6b79c",
   "metadata": {},
   "outputs": [
    {
     "data": {
      "text/plain": [
       "[2.056475238095238, -2.4854211178176873, 7.02833344584854]"
      ]
     },
     "execution_count": 13,
     "metadata": {},
     "output_type": "execute_result"
    }
   ],
   "source": [
    "import numpy as np\n",
    "\n",
    "a = np.array([ [3, -0.1, 0.2], [0.1, 7, -0.3], [0.3, -0.2, 10] ])\n",
    "b = np.array([7.85, -19.3, 71.4])\n",
    "\n",
    "x = np.zeros(3)\n",
    "comp = np.zeros_like(b)\n",
    "tolerance = 1e-5\n",
    "max_iter = 10\n",
    "error = []\n",
    "\n",
    "def GaussSeidel(a, b, x):\n",
    "    for i in range(len(b)):\n",
    "        xOld = x.copy()\n",
    "        x[i] = (b[i]- np.sum(a[i, 0:i]*x[0:i]) - np.sum(a[i, i+1:]*x[i+1:]))/a[i, i]\n",
    "        e = np.linalg.norm(x - xOld)\n",
    "        if e < 1e-6:\n",
    "            break\n",
    "    return i, x, e\n",
    "\n",
    "def printGaussSeidel(a, b, x):\n",
    "    xval= []\n",
    "    for i in range(len(GaussSeidel(a, b, x)[1])):\n",
    "        xval.append(GaussSeidel(a, b, x)[1][i])\n",
    "    return xval\n",
    "\n",
    "printGaussSeidel(a, b, x)"
   ]
  },
  {
   "cell_type": "code",
   "execution_count": null,
   "id": "3a8f05d2",
   "metadata": {},
   "outputs": [],
   "source": []
  }
 ],
 "metadata": {
  "kernelspec": {
   "display_name": "Python 3",
   "language": "python",
   "name": "python3"
  },
  "language_info": {
   "codemirror_mode": {
    "name": "ipython",
    "version": 3
   },
   "file_extension": ".py",
   "mimetype": "text/x-python",
   "name": "python",
   "nbconvert_exporter": "python",
   "pygments_lexer": "ipython3",
   "version": "3.7.6"
  }
 },
 "nbformat": 4,
 "nbformat_minor": 5
}
